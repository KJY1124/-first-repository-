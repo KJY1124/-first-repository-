{
  "nbformat": 4,
  "nbformat_minor": 0,
  "metadata": {
    "colab": {
      "provenance": [],
      "authorship_tag": "ABX9TyPJOhHDxYTJxxjZQ5uz+W6q",
      "include_colab_link": true
    },
    "kernelspec": {
      "name": "python3",
      "display_name": "Python 3"
    },
    "language_info": {
      "name": "python"
    },
    "accelerator": "GPU",
    "gpuClass": "standard"
  },
  "cells": [
    {
      "cell_type": "markdown",
      "metadata": {
        "id": "view-in-github",
        "colab_type": "text"
      },
      "source": [
        "<a href=\"https://colab.research.google.com/github/KJY1124/-first-repository-/blob/main/Perceptron.ipynb\" target=\"_parent\"><img src=\"https://colab.research.google.com/assets/colab-badge.svg\" alt=\"Open In Colab\"/></a>"
      ]
    },
    {
      "cell_type": "code",
      "execution_count": null,
      "metadata": {
        "colab": {
          "base_uri": "https://localhost:8080/"
        },
        "id": "BGbyOggdqrBO",
        "outputId": "6f670d53-b951-4a83-a208-f9bac2a7868f"
      },
      "outputs": [
        {
          "output_type": "stream",
          "name": "stdout",
          "text": [
            "0 0.7469354271888733\n",
            "1000 0.695692777633667\n",
            "2000 0.6938738226890564\n",
            "3000 0.6933555603027344\n",
            "4000 0.6932069063186646\n",
            "5000 0.6931643486022949\n",
            "6000 0.6931520700454712\n",
            "7000 0.6931484937667847\n",
            "8000 0.6931475400924683\n",
            "9000 0.6931473016738892\n",
            "10000 0.6931472420692444\n",
            "11000 0.6931471824645996\n",
            "12000 0.6931471824645996\n",
            "13000 0.6931471824645996\n",
            "14000 0.6931471824645996\n",
            "15000 0.6931471824645996\n",
            "16000 0.6931471824645996\n",
            "17000 0.6931471824645996\n",
            "18000 0.6931471824645996\n",
            "19000 0.6931471824645996\n",
            "20000 0.6931471824645996\n",
            "tensor([[0.5000],\n",
            "        [0.5000],\n",
            "        [0.5000],\n",
            "        [0.5000]], device='cuda:0')\n",
            "tensor([[False],\n",
            "        [ True],\n",
            "        [False],\n",
            "        [ True]], device='cuda:0')\n"
          ]
        }
      ],
      "source": [
        "import torch\n",
        "import torch.nn as nn\n",
        "\n",
        "# GPU 사용 설정\n",
        "device = 'cuda' if torch.cuda.is_available() else 'cpu'\n",
        "\n",
        "# Random 함수 사용을 위한 seed value 설정\n",
        "torch.manual_seed(2022)\n",
        "if device == 'cuda':\n",
        "    torch.cuda.manual_seed_all(2022)\n",
        "# 학습데이터 설정\n",
        "X = torch.FloatTensor([\n",
        "    [0,0],\n",
        "    [0,1],\n",
        "    [1,0],\n",
        "    [1,1]\n",
        "]).to(device)\n",
        "Y = torch.FloatTensor([\n",
        "    [0],[1],[1],[0]\n",
        "]).to(device)\n",
        "\n",
        "#Perceptron 연결 구조 설정\n",
        "model = nn.Sequential(\n",
        "    nn.Linear(2,1,bias=True),\n",
        "    nn.Sigmoid()\n",
        ").to(device)\n",
        "\n",
        "loss_func = torch.nn.BCELoss().to(device)\n",
        "optimizer = torch.optim.SGD(model.parameters(), lr = 0.01)\n",
        "\n",
        "for step in range(20001):\n",
        "    optimizer.zero_grad()\n",
        "\n",
        "    Y_hat = model(X)\n",
        "    loss = loss_func(Y_hat,Y)\n",
        "    loss.backward()\n",
        "    optimizer.step()\n",
        "\n",
        "    if step % 1000 == 0:\n",
        "      print(step, loss.item())\n",
        "with torch.no_grad():\n",
        "  model.eval()\n",
        "  inputs = torch.FloatTensor([\n",
        "      [0,0],\n",
        "      [0,1],\n",
        "      [1,0],\n",
        "      [1,1]\n",
        "  ]).to(device)\n",
        "  outputs = model(inputs)\n",
        "\n",
        "  print(outputs)\n",
        "  print(outputs>0.5)"
      ]
    },
    {
      "cell_type": "code",
      "source": [],
      "metadata": {
        "id": "qBJBD0Rqq9x7"
      },
      "execution_count": null,
      "outputs": []
    }
  ]
}